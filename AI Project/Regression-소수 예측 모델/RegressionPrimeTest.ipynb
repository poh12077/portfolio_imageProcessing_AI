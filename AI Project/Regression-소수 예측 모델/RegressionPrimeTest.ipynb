{
 "cells": [
  {
   "cell_type": "code",
   "execution_count": 1,
   "metadata": {},
   "outputs": [],
   "source": [
    "import numpy as np\n",
    "import matplotlib as mat\n",
    "import pandas as pd"
   ]
  },
  {
   "cell_type": "code",
   "execution_count": 2,
   "metadata": {},
   "outputs": [],
   "source": [
    "import math\n",
    "\n",
    "DataList=[]\n",
    "p=0\n",
    "n=0\n",
    "m1=1\n",
    "m2=10000\n",
    "for i in range(m1,m2):\n",
    "    k=int(math.sqrt(i)//1)+1\n",
    "    if i==0 or i==1:\n",
    "        n=1\n",
    "    for j in range(2,k):\n",
    "        if i%j==0:\n",
    "            n+=1\n",
    "            break\n",
    "    if n==0:\n",
    "        p=1\n",
    "    DataList.append([i,p])\n",
    "    p=0\n",
    "    n=0\n",
    "\n",
    "DataList=np.transpose(DataList)\n"
   ]
  },
  {
   "cell_type": "code",
   "execution_count": 3,
   "metadata": {},
   "outputs": [],
   "source": [
    "\n",
    "x=np.array(DataList[0])\n",
    "y=np.array(DataList[1])\n"
   ]
  },
  {
   "cell_type": "code",
   "execution_count": 4,
   "metadata": {},
   "outputs": [
    {
     "name": "stdout",
     "output_type": "stream",
     "text": [
      "[   1    2    3 ... 9997 9998 9999]\n"
     ]
    }
   ],
   "source": [
    "print(x)"
   ]
  },
  {
   "cell_type": "code",
   "execution_count": 5,
   "metadata": {},
   "outputs": [
    {
     "name": "stdout",
     "output_type": "stream",
     "text": [
      "[0 1 1 ... 0 0 0]\n"
     ]
    }
   ],
   "source": [
    "print(y)"
   ]
  },
  {
   "cell_type": "code",
   "execution_count": 6,
   "metadata": {},
   "outputs": [],
   "source": [
    "inputLength=1"
   ]
  },
  {
   "cell_type": "code",
   "execution_count": 7,
   "metadata": {},
   "outputs": [
    {
     "name": "stderr",
     "output_type": "stream",
     "text": [
      "Using TensorFlow backend.\n",
      "C:\\Users\\young hwa\\.conda\\envs\\heawon\\lib\\site-packages\\tensorflow\\python\\framework\\dtypes.py:519: FutureWarning: Passing (type, 1) or '1type' as a synonym of type is deprecated; in a future version of numpy, it will be understood as (type, (1,)) / '(1,)type'.\n",
      "  _np_qint8 = np.dtype([(\"qint8\", np.int8, 1)])\n",
      "C:\\Users\\young hwa\\.conda\\envs\\heawon\\lib\\site-packages\\tensorflow\\python\\framework\\dtypes.py:520: FutureWarning: Passing (type, 1) or '1type' as a synonym of type is deprecated; in a future version of numpy, it will be understood as (type, (1,)) / '(1,)type'.\n",
      "  _np_quint8 = np.dtype([(\"quint8\", np.uint8, 1)])\n",
      "C:\\Users\\young hwa\\.conda\\envs\\heawon\\lib\\site-packages\\tensorflow\\python\\framework\\dtypes.py:521: FutureWarning: Passing (type, 1) or '1type' as a synonym of type is deprecated; in a future version of numpy, it will be understood as (type, (1,)) / '(1,)type'.\n",
      "  _np_qint16 = np.dtype([(\"qint16\", np.int16, 1)])\n",
      "C:\\Users\\young hwa\\.conda\\envs\\heawon\\lib\\site-packages\\tensorflow\\python\\framework\\dtypes.py:522: FutureWarning: Passing (type, 1) or '1type' as a synonym of type is deprecated; in a future version of numpy, it will be understood as (type, (1,)) / '(1,)type'.\n",
      "  _np_quint16 = np.dtype([(\"quint16\", np.uint16, 1)])\n",
      "C:\\Users\\young hwa\\.conda\\envs\\heawon\\lib\\site-packages\\tensorflow\\python\\framework\\dtypes.py:523: FutureWarning: Passing (type, 1) or '1type' as a synonym of type is deprecated; in a future version of numpy, it will be understood as (type, (1,)) / '(1,)type'.\n",
      "  _np_qint32 = np.dtype([(\"qint32\", np.int32, 1)])\n",
      "C:\\Users\\young hwa\\.conda\\envs\\heawon\\lib\\site-packages\\tensorflow\\python\\framework\\dtypes.py:528: FutureWarning: Passing (type, 1) or '1type' as a synonym of type is deprecated; in a future version of numpy, it will be understood as (type, (1,)) / '(1,)type'.\n",
      "  np_resource = np.dtype([(\"resource\", np.ubyte, 1)])\n"
     ]
    },
    {
     "name": "stdout",
     "output_type": "stream",
     "text": [
      "Train on 5999 samples, validate on 2000 samples\n",
      "Epoch 1/5\n",
      "5999/5999 [==============================] - 14s 2ms/step - loss: 0.1198 - mean_squared_error: 0.1198 - val_loss: 0.1089 - val_mean_squared_error: 0.1089\n",
      "Epoch 2/5\n",
      "5999/5999 [==============================] - 25s 4ms/step - loss: 0.1172 - mean_squared_error: 0.1172 - val_loss: 0.0995 - val_mean_squared_error: 0.0995\n",
      "Epoch 3/5\n",
      "5999/5999 [==============================] - 12s 2ms/step - loss: 0.1170 - mean_squared_error: 0.1170 - val_loss: 0.1135 - val_mean_squared_error: 0.1135\n",
      "Epoch 4/5\n",
      "5999/5999 [==============================] - 13s 2ms/step - loss: 0.1161 - mean_squared_error: 0.1161 - val_loss: 0.1080 - val_mean_squared_error: 0.1080\n",
      "Epoch 5/5\n",
      "5999/5999 [==============================] - 13s 2ms/step - loss: 0.1154 - mean_squared_error: 0.1154 - val_loss: 0.1005 - val_mean_squared_error: 0.1005\n"
     ]
    },
    {
     "data": {
      "text/plain": [
       "<keras.callbacks.History at 0x2c9c182fe80>"
      ]
     },
     "execution_count": 7,
     "metadata": {},
     "output_type": "execute_result"
    }
   ],
   "source": [
    "\n",
    "from sklearn.model_selection import train_test_split\n",
    "x_train, x_test, y_train, y_test = train_test_split(\n",
    "x, y, random_state=66, test_size=0.4, shuffle=False\n",
    ")\n",
    "x_val, x_test, y_val, y_test = train_test_split(\n",
    "x_test, y_test, random_state=66, test_size=0.5, shuffle=False\n",
    ")\n",
    "\n",
    "#2. 모델 구성\n",
    "from keras.models import Sequential\n",
    "from keras.layers import Dense\n",
    "model = Sequential()\n",
    "model.add(Dense(64, input_shape = (inputLength , ), activation ='sigmoid'))\n",
    "model.add(Dense(32, activation ='sigmoid'))\n",
    "model.add(Dense(32, activation ='sigmoid'))\n",
    "model.add(Dense(32, activation ='sigmoid'))\n",
    "model.add(Dense(32, activation ='sigmoid'))\n",
    "model.add(Dense(1))\n",
    "\n",
    "\n",
    "# model.summary()\n",
    "#3. 훈련\n",
    "\n",
    "from keras.callbacks import EarlyStopping , TensorBoard\n",
    "tb_hist = TensorBoard(log_dir='./graph', histogram_freq=0, write_graph=True, write_images=True)\n",
    "early_stopping = EarlyStopping(monitor='loss', patience=10, mode='min')\n",
    "\n",
    "model.compile(loss='mse', optimizer='adam', metrics=['mse'])\n",
    "model.fit(x_train, y_train, epochs=5, batch_size=1,  validation_data=(x_val, y_val))\n",
    "#callbacks=[early_stopping] \n",
    "\n"
   ]
  },
  {
   "cell_type": "code",
   "execution_count": 8,
   "metadata": {},
   "outputs": [
    {
     "name": "stdout",
     "output_type": "stream",
     "text": [
      "2000/2000 [==============================] - 2s 807us/step\n",
      "mse :  [0.09980790631100535, 0.09980790631100535]\n",
      "RMSE :  0.3159238851157075\n",
      "R2 :  -0.011440136063425088\n"
     ]
    }
   ],
   "source": [
    "\n",
    "#4. 평가 예측\n",
    "mse = model.evaluate(x_test, y_test, batch_size=1)\n",
    "print(\"mse : \", mse)\n",
    "y_predict = model.predict(x_test)\n",
    "\n",
    "\n",
    "#RMSE 구하기\n",
    "from sklearn.metrics import mean_squared_error\n",
    "def RMSE(y_test, y_predict):\n",
    "    return np.sqrt(mean_squared_error(y_test, y_predict))\n",
    "print(\"RMSE : \", RMSE(y_test, y_predict))\n",
    "\n",
    "# R2 구하기\n",
    "from sklearn.metrics import r2_score\n",
    "r2_y_predict = r2_score(y_test, y_predict)\n",
    "print(\"R2 : \", r2_y_predict)\n",
    "\n"
   ]
  },
  {
   "cell_type": "code",
   "execution_count": 9,
   "metadata": {},
   "outputs": [
    {
     "data": {
      "text/plain": [
       "0.14459912478923798"
      ]
     },
     "execution_count": 9,
     "metadata": {},
     "output_type": "execute_result"
    }
   ],
   "source": [
    "float(y_predict[1])"
   ]
  },
  {
   "cell_type": "code",
   "execution_count": 10,
   "metadata": {},
   "outputs": [],
   "source": [
    "#check \n",
    "for i in range(len(y_predict)):\n",
    "    if float(y_predict[i]) != float(y_predict[1]):\n",
    "        print(\"check out\")"
   ]
  },
  {
   "cell_type": "code",
   "execution_count": 11,
   "metadata": {},
   "outputs": [],
   "source": [
    "import matplotlib.pyplot as plt\n"
   ]
  },
  {
   "cell_type": "code",
   "execution_count": 12,
   "metadata": {
    "scrolled": false
   },
   "outputs": [
    {
     "data": {
      "image/png": "[encoded data removed]",
      "text/plain": [
       "<Figure size 432x288 with 1 Axes>"
      ]
     },
     "metadata": {
      "needs_background": "light"
     },
     "output_type": "display_data"
    }
   ],
   "source": [
    "plt.scatter(y_test, y_predict ,label='Value',s=5)\n",
    "plt.xlabel(\"Actual Value\")\n",
    "plt.ylabel(\"Prediction Value\")\n",
    "plt.title(\"Actual & Prediction\")\n",
    "plt.legend()\n",
    "plt.show()"
   ]
  },
  {
   "cell_type": "code",
   "execution_count": null,
   "metadata": {},
   "outputs": [],
   "source": []
  }
 ],
 "metadata": {
  "kernelspec": {
   "display_name": "Python 3",
   "language": "python",
   "name": "python3"
  },
  "language_info": {
   "codemirror_mode": {
    "name": "ipython",
    "version": 3
   },
   "file_extension": ".py",
   "mimetype": "text/x-python",
   "name": "python",
   "nbconvert_exporter": "python",
   "pygments_lexer": "ipython3",
   "version": "3.6.4"
  }
 },
 "nbformat": 4,
 "nbformat_minor": 4
}
