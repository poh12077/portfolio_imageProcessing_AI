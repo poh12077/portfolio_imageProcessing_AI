{
 "cells": [
  {
   "cell_type": "code",
   "execution_count": 1,
   "metadata": {},
   "outputs": [],
   "source": [
    "import numpy as np\n",
    "import matplotlib as mat\n",
    "import pandas as pd"
   ]
  },
  {
   "cell_type": "code",
   "execution_count": 2,
   "metadata": {
    "scrolled": true
   },
   "outputs": [],
   "source": [
    "abalonData=pd.read_excel('abalon.xlsx')"
   ]
  },
  {
   "cell_type": "code",
   "execution_count": 3,
   "metadata": {},
   "outputs": [],
   "source": [
    "Length=abalonData['Length'].tolist()\n",
    "Diameter=abalonData['Diameter'].tolist()\n",
    "Height=abalonData['Height'].tolist()\n",
    "Whole_Weight=abalonData['Whole_weight'].tolist()\n",
    "Shucked_Weight=abalonData['Shucked_weight'].tolist()\n",
    "Viscera_Weight=abalonData['Viscera_weight'].tolist()\n",
    "Shell_Weight=abalonData['Shell_weight'].tolist()\n",
    "Rings=abalonData['Rings'].tolist()\n",
    "sex=abalonData['SEX'].tolist()"
   ]
  },
  {
   "cell_type": "code",
   "execution_count": 4,
   "metadata": {},
   "outputs": [],
   "source": [
    "Sex=[]\n",
    "i=0\n",
    "while i< len(sex):\n",
    "    if sex[i]=='M':\n",
    "        Sex.append(3)\n",
    "    elif sex[i]=='F':\n",
    "        Sex.append(2)\n",
    "    else:\n",
    "        Sex.append(1)\n",
    "    i+=1"
   ]
  },
  {
   "cell_type": "code",
   "execution_count": 5,
   "metadata": {},
   "outputs": [],
   "source": [
    "\n",
    "x = np.array([Sex, Length,Diameter,Height, Whole_Weight, Shucked_Weight,Viscera_Weight,Shell_Weight])\n",
    "y = np.array(Rings)\n",
    "x = np.transpose(x)"
   ]
  },
  {
   "cell_type": "code",
   "execution_count": 6,
   "metadata": {},
   "outputs": [],
   "source": [
    "inputLength=len(x[1])"
   ]
  },
  {
   "cell_type": "code",
   "execution_count": null,
   "metadata": {},
   "outputs": [
    {
     "name": "stderr",
     "output_type": "stream",
     "text": [
      "Using TensorFlow backend.\n",
      "C:\\Users\\young hwa\\.conda\\envs\\heawon\\lib\\site-packages\\tensorflow\\python\\framework\\dtypes.py:519: FutureWarning: Passing (type, 1) or '1type' as a synonym of type is deprecated; in a future version of numpy, it will be understood as (type, (1,)) / '(1,)type'.\n",
      "  _np_qint8 = np.dtype([(\"qint8\", np.int8, 1)])\n",
      "C:\\Users\\young hwa\\.conda\\envs\\heawon\\lib\\site-packages\\tensorflow\\python\\framework\\dtypes.py:520: FutureWarning: Passing (type, 1) or '1type' as a synonym of type is deprecated; in a future version of numpy, it will be understood as (type, (1,)) / '(1,)type'.\n",
      "  _np_quint8 = np.dtype([(\"quint8\", np.uint8, 1)])\n",
      "C:\\Users\\young hwa\\.conda\\envs\\heawon\\lib\\site-packages\\tensorflow\\python\\framework\\dtypes.py:521: FutureWarning: Passing (type, 1) or '1type' as a synonym of type is deprecated; in a future version of numpy, it will be understood as (type, (1,)) / '(1,)type'.\n",
      "  _np_qint16 = np.dtype([(\"qint16\", np.int16, 1)])\n",
      "C:\\Users\\young hwa\\.conda\\envs\\heawon\\lib\\site-packages\\tensorflow\\python\\framework\\dtypes.py:522: FutureWarning: Passing (type, 1) or '1type' as a synonym of type is deprecated; in a future version of numpy, it will be understood as (type, (1,)) / '(1,)type'.\n",
      "  _np_quint16 = np.dtype([(\"quint16\", np.uint16, 1)])\n",
      "C:\\Users\\young hwa\\.conda\\envs\\heawon\\lib\\site-packages\\tensorflow\\python\\framework\\dtypes.py:523: FutureWarning: Passing (type, 1) or '1type' as a synonym of type is deprecated; in a future version of numpy, it will be understood as (type, (1,)) / '(1,)type'.\n",
      "  _np_qint32 = np.dtype([(\"qint32\", np.int32, 1)])\n",
      "C:\\Users\\young hwa\\.conda\\envs\\heawon\\lib\\site-packages\\tensorflow\\python\\framework\\dtypes.py:528: FutureWarning: Passing (type, 1) or '1type' as a synonym of type is deprecated; in a future version of numpy, it will be understood as (type, (1,)) / '(1,)type'.\n",
      "  np_resource = np.dtype([(\"resource\", np.ubyte, 1)])\n"
     ]
    },
    {
     "name": "stdout",
     "output_type": "stream",
     "text": [
      "Train on 2506 samples, validate on 835 samples\n",
      "Epoch 1/100\n",
      "2506/2506 [==============================] - 3s 1ms/step - loss: 10.2377 - mean_squared_error: 10.2377 - val_loss: 4.1812 - val_mean_squared_error: 4.1812\n",
      "Epoch 2/100\n",
      "2506/2506 [==============================] - 3s 1ms/step - loss: 7.1975 - mean_squared_error: 7.1975 - val_loss: 3.5628 - val_mean_squared_error: 3.5628\n",
      "Epoch 3/100\n",
      "2506/2506 [==============================] - 3s 1ms/step - loss: 6.4668 - mean_squared_error: 6.4668 - val_loss: 4.0366 - val_mean_squared_error: 4.0366\n",
      "Epoch 4/100\n",
      "2506/2506 [==============================] - 3s 1ms/step - loss: 6.2100 - mean_squared_error: 6.2100 - val_loss: 3.4765 - val_mean_squared_error: 3.4765\n",
      "Epoch 5/100\n",
      "2506/2506 [==============================] - 3s 1ms/step - loss: 6.2956 - mean_squared_error: 6.2956 - val_loss: 3.4664 - val_mean_squared_error: 3.4664\n",
      "Epoch 6/100\n",
      "2506/2506 [==============================] - 3s 1ms/step - loss: 6.1400 - mean_squared_error: 6.1400 - val_loss: 3.4986 - val_mean_squared_error: 3.4986\n",
      "Epoch 7/100\n",
      "2506/2506 [==============================] - 3s 1ms/step - loss: 6.1416 - mean_squared_error: 6.1416 - val_loss: 4.9839 - val_mean_squared_error: 4.9839\n",
      "Epoch 8/100\n",
      "1109/2506 [============>.................] - ETA: 1s - loss: 5.8754 - mean_squared_error: 5.8754"
     ]
    }
   ],
   "source": [
    "\n",
    "from sklearn.model_selection import train_test_split\n",
    "x_train, x_test, y_train, y_test = train_test_split(\n",
    "x, y, random_state=66, test_size=0.4, shuffle=False\n",
    ")\n",
    "x_val, x_test, y_val, y_test = train_test_split(\n",
    "x_test, y_test, random_state=66, test_size=0.5, shuffle=False\n",
    ")\n",
    "\n",
    "#2. 모델 구성\n",
    "from keras.models import Sequential\n",
    "from keras.layers import Dense\n",
    "model = Sequential()\n",
    "model.add(Dense(64, input_shape = (inputLength , ), activation ='relu'))\n",
    "model.add(Dense(32, activation ='relu'))\n",
    "model.add(Dense(32, activation ='relu'))\n",
    "model.add(Dense(32, activation ='relu'))\n",
    "model.add(Dense(32, activation ='relu'))\n",
    "model.add(Dense(1))\n",
    "\n",
    "\n",
    "# model.summary()\n",
    "#3. 훈련\n",
    "\n",
    "from keras.callbacks import EarlyStopping , TensorBoard\n",
    "tb_hist = TensorBoard(log_dir='./graph', histogram_freq=0, write_graph=True, write_images=True)\n",
    "early_stopping = EarlyStopping(monitor='loss', patience=10, mode='min')\n",
    "\n",
    "model.compile(loss='mse', optimizer='adam', metrics=['mse'])\n",
    "model.fit(x_train, y_train, epochs=100, batch_size=1,  validation_data=(x_val, y_val))\n",
    "#callbacks=[early_stopping] \n",
    "\n"
   ]
  },
  {
   "cell_type": "code",
   "execution_count": null,
   "metadata": {},
   "outputs": [],
   "source": [
    "\n",
    "#4. 평가 예측\n",
    "mse = model.evaluate(x_test, y_test, batch_size=1)\n",
    "print(\"mse : \", mse)\n",
    "y_predict = model.predict(x_test)\n",
    "\n",
    "\n",
    "#RMSE 구하기\n",
    "from sklearn.metrics import mean_squared_error\n",
    "def RMSE(y_test, y_predict):\n",
    "    return np.sqrt(mean_squared_error(y_test, y_predict))\n",
    "print(\"RMSE : \", RMSE(y_test, y_predict))\n",
    "\n",
    "# R2 구하기\n",
    "from sklearn.metrics import r2_score\n",
    "r2_y_predict = r2_score(y_test, y_predict)\n",
    "print(\"R2 : \", r2_y_predict)\n",
    "\n"
   ]
  },
  {
   "cell_type": "code",
   "execution_count": null,
   "metadata": {},
   "outputs": [],
   "source": [
    "import matplotlib.pyplot as plt\n"
   ]
  },
  {
   "cell_type": "code",
   "execution_count": null,
   "metadata": {},
   "outputs": [],
   "source": [
    "a=np.arange(1, 23 , 0.1)\n",
    "b=a"
   ]
  },
  {
   "cell_type": "code",
   "execution_count": null,
   "metadata": {
    "scrolled": false
   },
   "outputs": [],
   "source": [
    "plt.scatter(y_test, y_predict ,label='Value',s=5)\n",
    "plt.xlabel(\"Actual Ring Value\")\n",
    "plt.ylabel(\"Prediction Ring Value\")\n",
    "plt.title(\"Basic Deep Learning Model\")\n",
    "plt.plot(a,b, label ='y=x', color ='green')\n",
    "plt.legend()\n",
    "plt.show()"
   ]
  },
  {
   "cell_type": "code",
   "execution_count": null,
   "metadata": {},
   "outputs": [],
   "source": []
  }
 ],
 "metadata": {
  "kernelspec": {
   "display_name": "Python 3",
   "language": "python",
   "name": "python3"
  },
  "language_info": {
   "codemirror_mode": {
    "name": "ipython",
    "version": 3
   },
   "file_extension": ".py",
   "mimetype": "text/x-python",
   "name": "python",
   "nbconvert_exporter": "python",
   "pygments_lexer": "ipython3",
   "version": "3.6.4"
  }
 },
 "nbformat": 4,
 "nbformat_minor": 4
}
