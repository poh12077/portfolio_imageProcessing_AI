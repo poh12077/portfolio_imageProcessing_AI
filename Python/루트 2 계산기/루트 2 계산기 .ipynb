{
 "cells": [
  {
   "cell_type": "code",
   "execution_count": 20,
   "metadata": {},
   "outputs": [
    {
     "name": "stdout",
     "output_type": "stream",
     "text": [
      "루트 2에서 소수점 몇자리수 까지 계산 하고 싶으세요?\n",
      "10\n"
     ]
    }
   ],
   "source": [
    "print(\"루트 2에서 소수점 몇자리수 까지 계산 하고 싶으세요?\")\n",
    "k=input()\n",
    "k=int(k)"
   ]
  },
  {
   "cell_type": "code",
   "execution_count": 21,
   "metadata": {},
   "outputs": [
    {
     "name": "stdout",
     "output_type": "stream",
     "text": [
      "루트 2\n",
      "[1, 4, 1, 4, 2, 1, 3, 5, 6, 2]\n"
     ]
    }
   ],
   "source": [
    "\n",
    "x=2\n",
    "Decimal=[]\n",
    "\n",
    "sum=0\n",
    "a=0\n",
    "\n",
    "for j in range(0,k):\n",
    "    \n",
    "    a1=a\n",
    "    \n",
    "    for i in range(0,10):\n",
    "        b= a + ( (sum + i) *2 ) + 1 # b=(sum+1)^2\n",
    "        if ( a < x ) and ( x < b ):\n",
    "            Decimal.append(i)\n",
    "            break\n",
    "        a=b    \n",
    "        \n",
    "    x=x*100\n",
    "    \n",
    "    a= (a1 + sum* Decimal[j] *2 + Decimal[j] **2) * 100 \n",
    "    \n",
    "    sum += Decimal[j]\n",
    "    sum *=10\n",
    "    \n",
    "print(\"루트 2\" )\n",
    "print(Decimal) "
   ]
  },
  {
   "cell_type": "code",
   "execution_count": 22,
   "metadata": {},
   "outputs": [
    {
     "name": "stdout",
     "output_type": "stream",
     "text": [
      "0~9 의 비율 \n",
      "\n",
      "0 : 0.0\n",
      "1 : 30.0\n",
      "2 : 20.0\n",
      "3 : 10.0\n",
      "4 : 20.0\n",
      "5 : 10.0\n",
      "6 : 10.0\n",
      "7 : 0.0\n",
      "8 : 0.0\n",
      "9 : 0.0\n"
     ]
    }
   ],
   "source": [
    "print (\"0~9 의 비율 \\n\")\n",
    "for i in range(0,10):\n",
    "    print(i,':', (Decimal.count(i)/k) *100 )"
   ]
  },
  {
   "cell_type": "code",
   "execution_count": null,
   "metadata": {},
   "outputs": [],
   "source": []
  }
 ],
 "metadata": {
  "kernelspec": {
   "display_name": "Python 3",
   "language": "python",
   "name": "python3"
  },
  "language_info": {
   "codemirror_mode": {
    "name": "ipython",
    "version": 3
   },
   "file_extension": ".py",
   "mimetype": "text/x-python",
   "name": "python",
   "nbconvert_exporter": "python",
   "pygments_lexer": "ipython3",
   "version": "3.8.5"
  }
 },
 "nbformat": 4,
 "nbformat_minor": 4
}
